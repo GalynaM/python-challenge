{
 "cells": [
  {
   "cell_type": "code",
   "execution_count": 74,
   "metadata": {},
   "outputs": [],
   "source": [
    "import os\n",
    "import csv\n",
    "import statistics"
   ]
  },
  {
   "cell_type": "code",
   "execution_count": 75,
   "metadata": {},
   "outputs": [
    {
     "name": "stdout",
     "output_type": "stream",
     "text": [
      "\n",
      "Financial Analysis\n",
      "-----------------------\n",
      "Total months: 86\n",
      "Total: $38382578\n",
      "Average of The Changes: $-2315.12\n",
      "Greatest Increase in Profits: Feb-2012: $1926159\n",
      "Greatest Decrease in Profits: Sep-2013: $-2196167\n"
     ]
    }
   ],
   "source": [
    "path_input = os.path.join(\"Resources\", \"budget_data.csv\")\n",
    "path_output = os.path.join(\"Analysis\", \"budget_data_result.csv\")\n",
    "\n",
    "# Read data from source file\n",
    "with open(path_input, 'r') as csv_input: \n",
    "    csv_reader = csv.reader(csv_input, delimiter = ',')\n",
    "   \n",
    "    # Skip the headers\n",
    "    next(csv_reader)\n",
    "    \n",
    "    # Dave data to Dictionary with Key - Date: Value - Profit/Losses\n",
    "    date_profit = {}\n",
    "    for row in csv_reader:\n",
    "        date_profit[row[0]] = int(row[1])\n",
    "\n",
    "    #-----------Calculate the total number of months included in the dataset\n",
    "    number_of_months = len(date_profit)\n",
    "    \n",
    "    #-----------Calculate the net total amount of \"Profit/Losses\" over the entire period\n",
    "    total_amount = sum(date_profit.values())\n",
    "    \n",
    "     \n",
    "    monthly_change = []\n",
    "    \n",
    "    # Get Separate lists for Keys and Values from Dictionary date_profit\n",
    "    profit_values = list(date_profit.values())\n",
    "    date_values = list(date_profit.keys())\n",
    "    \n",
    "    max_increase=0\n",
    "    max_decrease=0\n",
    "    \n",
    "    for i in range(0, len(profit_values)-1):\n",
    "        # Calculate the monthly changes in \"Profit/Losses\" over the entire period\n",
    "        the_change = profit_values[i+1]-profit_values[i]\n",
    "        monthly_change.append(the_change)\n",
    "        \n",
    "    #-----------Calculate the greatest increase/decrease in profits (date and amount) over the entire period\n",
    "        if the_change > max_increase:\n",
    "            max_increase = the_change\n",
    "            best_month = date_values[i+1]\n",
    "            \n",
    "        if the_change < max_decrease:\n",
    "            max_decrease = the_change\n",
    "            worst_month = date_values[i+1]\n",
    "            \n",
    "    #-----------Calculate the average of the changes in \"Profit/Losses\" over the entire period\n",
    "    average_of_changes = round(statistics.mean(monthly_change), 2)\n",
    "    \n",
    "    # Specify variables for the final analysis\n",
    "    great_increase = (best_month, f\"${max_increase}\")\n",
    "    great_decrease = (worst_month, f\"${max_decrease}\")\n",
    "    \n",
    "    header_list = [\"Total months\", \"Total\", \"Average of The Changes\",\n",
    "                   \"Greatest Increase in Profits\", \"Greatest Decrease in Profits\"]\n",
    "    \n",
    "    value_list = [number_of_months, f\"${total_amount}\", f\"${average_of_changes}\",\n",
    "                  f\"{great_increase[0]}: {great_increase[1]}\", f\"{great_decrease[0]}: {great_decrease[1]}\"]\n",
    "    \n",
    "    result_tuple = zip(header_list, value_list)\n",
    "    \n",
    "    header_row = \"\\nFinancial Analysis\\n-----------------------\"\n",
    "    \n",
    "    # Analysis output--------------------------------------------------------------------------\n",
    "    \n",
    "    #Print result to the terminal\n",
    "    print(header_row)\n",
    "    \n",
    "    for i in range(0,len(header_list)):\n",
    "        print(f\"{header_list[i]}: {value_list[i]}\")\n",
    "   \n",
    "    # Write result to the output file  \n",
    "with open(path_output, 'w') as csv_output:\n",
    "        \n",
    "    csv_writer = csv.writer(csv_output, delimiter = ',')\n",
    "\n",
    "    csv_writer.writerow([header_row])\n",
    "\n",
    "    for my_tuple in result_tuple:\n",
    "        csv_writer.writerow(my_tuple)\n"
   ]
  },
  {
   "cell_type": "code",
   "execution_count": null,
   "metadata": {},
   "outputs": [],
   "source": []
  }
 ],
 "metadata": {
  "kernelspec": {
   "display_name": "Python 3",
   "language": "python",
   "name": "python3"
  },
  "language_info": {
   "codemirror_mode": {
    "name": "ipython",
    "version": 3
   },
   "file_extension": ".py",
   "mimetype": "text/x-python",
   "name": "python",
   "nbconvert_exporter": "python",
   "pygments_lexer": "ipython3",
   "version": "3.8.5"
  }
 },
 "nbformat": 4,
 "nbformat_minor": 4
}
