{
 "cells": [
  {
   "cell_type": "code",
   "execution_count": 7,
   "metadata": {},
   "outputs": [],
   "source": [
    "import os\n",
    "import csv"
   ]
  },
  {
   "cell_type": "code",
   "execution_count": 8,
   "metadata": {},
   "outputs": [],
   "source": [
    "path_input = os.path.join(\"Resources\", \"election_data.csv\")\n",
    "path_output = os.path.join(\"Analysis\", \"election_data_result.csv\")"
   ]
  },
  {
   "cell_type": "code",
   "execution_count": 9,
   "metadata": {},
   "outputs": [
    {
     "name": "stdout",
     "output_type": "stream",
     "text": [
      "Election Results \n",
      "--------------------\n",
      "Total votes: 3521001 \n",
      "--------------------\n",
      "Correy:\t20.00% (704200)\n",
      "Khan:\t63.00% (2218231)\n",
      "Li:\t14.00% (492940)\n",
      "O'Tooley:\t3.00% (105630)\n",
      "\n",
      "--------------------\n",
      "Winner: Khan \n",
      "--------------------\n"
     ]
    }
   ],
   "source": [
    "# Define variables\n",
    "# Dictionary for all voters\n",
    "all_voters = {}\n",
    "\n",
    "# Set for candidates\n",
    "candidates = set()\n",
    "\n",
    "# Dictionary for votes for each candidate\n",
    "candidate_votes = {}\n",
    "\n",
    "# Read from csv file\n",
    "with open(path_input, \"r\") as csv_file:   \n",
    "    csv_reader = csv.DictReader(csv_file, delimiter = ',')\n",
    "    \n",
    "    for row in csv_reader:\n",
    "        \n",
    "        # Save poll data to Dictionary with Key - Voter ID: value - Dictionary with values for County and Candidate\n",
    "        all_voters[row['Voter ID']] = row\n",
    "        \n",
    "        #---Find a complete list of candidates who received votes. Set() structure contains only unique values\n",
    "        candidates.add(all_voters[row['Voter ID']]['Candidate'])\n",
    "\n",
    "    #-------Calculate the total number of votes cast\n",
    "    total_votes = len(all_voters)\n",
    "    \n",
    "    #-------Calculate votes and percentage of votes for each candidate and define the winner\n",
    "    max_value = 0.0\n",
    "    for candidate in candidates:\n",
    "        \n",
    "        count_votes = 0\n",
    "        \n",
    "        # Count votes for each candidates\n",
    "        for voter in all_voters.values():\n",
    "            if voter['Candidate'] == candidate:\n",
    "                count_votes += 1\n",
    "                \n",
    "        # Add Dictionaries with Key - candidate name : Value - tuple with total votes and perentage of votes       \n",
    "        candidate_votes[candidate] = (round(count_votes/total_votes, 2), count_votes)\n",
    "\n",
    "        #---Define the winner\n",
    "        if candidate_votes[candidate][0] > max_value:\n",
    "            winner_name = candidate\n",
    "            max_value = candidate_votes[candidate][0]\n",
    "            \n",
    "            \n",
    "#Analysis output---------------------------------------------------------------------------------------------\n",
    "    \n",
    "    header_row = f\"Election Results \\n--------------------\\nTotal votes: {total_votes} \\n--------------------\"\n",
    "    winner_row = f\"\\n--------------------\\nWinner: {winner_name} \\n--------------------\"\n",
    "    \n",
    "    #Print the analysis in the terminal \n",
    "    print(header_row)\n",
    "    \n",
    "    for each in sorted(candidates):\n",
    "        print(f'{each}:\\t{\"{:.2%}\".format(candidate_votes[each][0])} ({candidate_votes[each][1]})')\n",
    "    \n",
    "    print(winner_row)\n",
    "\n",
    "    \n",
    "#Save the analysis to the text file\n",
    "with open(path_output, 'w') as csv_file:  \n",
    "    csv_writer = csv.writer(csv_file, delimiter = ',')\n",
    "    \n",
    "    csv_writer.writerow([header_row])\n",
    "    \n",
    "    for each in sorted(candidates):\n",
    "        csv_writer.writerow([f'{each}:\\t{\"{:.2%}\".format(candidate_votes[each][0])} ({candidate_votes[each][1]})'])\n",
    "    \n",
    "    csv_writer.writerow([winner_row])\n",
    "    \n",
    "\n"
   ]
  },
  {
   "cell_type": "code",
   "execution_count": null,
   "metadata": {},
   "outputs": [],
   "source": []
  }
 ],
 "metadata": {
  "kernelspec": {
   "display_name": "Python 3",
   "language": "python",
   "name": "python3"
  },
  "language_info": {
   "codemirror_mode": {
    "name": "ipython",
    "version": 3
   },
   "file_extension": ".py",
   "mimetype": "text/x-python",
   "name": "python",
   "nbconvert_exporter": "python",
   "pygments_lexer": "ipython3",
   "version": "3.8.5"
  }
 },
 "nbformat": 4,
 "nbformat_minor": 4
}
